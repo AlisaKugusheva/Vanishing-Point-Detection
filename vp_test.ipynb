{
 "cells": [
  {
   "cell_type": "code",
   "execution_count": 2,
   "id": "sought-region",
   "metadata": {},
   "outputs": [
    {
     "name": "stdout",
     "output_type": "stream",
     "text": [
      "/Users/alisakugusheva/Downloads/VP-main\n"
     ]
    }
   ],
   "source": [
    "# %cd '/Users/alisakugusheva/Downloads/VP-main'\n",
    "%cd directory_with_VP-main_folder"
   ]
  },
  {
   "cell_type": "code",
   "execution_count": 3,
   "id": "pharmaceutical-diagram",
   "metadata": {},
   "outputs": [],
   "source": [
    "!python test_gen.py --s './' --d './test/' --num 50 --seed 1"
   ]
  },
  {
   "cell_type": "code",
   "execution_count": null,
   "id": "chief-content",
   "metadata": {
    "scrolled": true
   },
   "outputs": [],
   "source": [
    "!python make_pred.py --model './model.pt' --test './test/' --pred './predictions.json' --gt './test/markup.json'"
   ]
  },
  {
   "cell_type": "code",
   "execution_count": 8,
   "id": "temporal-china",
   "metadata": {},
   "outputs": [
    {
     "name": "stdout",
     "output_type": "stream",
     "text": [
      "Mean: 1.8884804012322862, median: 1.6874729485739366\r\n"
     ]
    }
   ],
   "source": [
    "!python metrics.py --imgs './test/' --gt './test/markup.json' --ans './predictions.json'"
   ]
  },
  {
   "cell_type": "code",
   "execution_count": null,
   "id": "interracial-venture",
   "metadata": {},
   "outputs": [],
   "source": []
  },
  {
   "cell_type": "code",
   "execution_count": null,
   "id": "incorrect-ordinance",
   "metadata": {},
   "outputs": [],
   "source": []
  },
  {
   "cell_type": "code",
   "execution_count": null,
   "id": "special-frost",
   "metadata": {},
   "outputs": [],
   "source": [
    "# For MacOS run before 2nd script:\n",
    "\n",
    "# import os\n",
    "\n",
    "# os.environ['KMP_DUPLICATE_LIB_OK']='True'"
   ]
  }
 ],
 "metadata": {
  "kernelspec": {
   "display_name": "Python 3",
   "language": "python",
   "name": "python3"
  },
  "language_info": {
   "codemirror_mode": {
    "name": "ipython",
    "version": 3
   },
   "file_extension": ".py",
   "mimetype": "text/x-python",
   "name": "python",
   "nbconvert_exporter": "python",
   "pygments_lexer": "ipython3",
   "version": "3.7.9"
  }
 },
 "nbformat": 4,
 "nbformat_minor": 5
}
